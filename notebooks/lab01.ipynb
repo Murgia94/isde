{
  "nbformat": 4,
  "nbformat_minor": 0,
  "metadata": {
    "colab": {
      "name": "Copia di lab01.ipynb",
      "provenance": [],
      "authorship_tag": "ABX9TyMpacrxniyMvfQU238Acpu1",
      "include_colab_link": true
    },
    "kernelspec": {
      "name": "python3",
      "display_name": "Python 3"
    }
  },
  "cells": [
    {
      "cell_type": "markdown",
      "metadata": {
        "id": "view-in-github",
        "colab_type": "text"
      },
      "source": [
        "<a href=\"https://colab.research.google.com/github/unica-isde/isde/blob/master/notebooks/lab01.ipynb\" target=\"_parent\"><img src=\"https://colab.research.google.com/assets/colab-badge.svg\" alt=\"Open In Colab\"/></a>"
      ]
    },
    {
      "cell_type": "markdown",
      "metadata": {
        "id": "An3Ff55YMRLg"
      },
      "source": [
        "# Python Basics\n"
      ]
    },
    {
      "cell_type": "code",
      "metadata": {
        "id": "Uc1Xm-lsGNig",
        "outputId": "fd69bcc9-e288-4cc9-84a9-6284213d6ed7",
        "colab": {
          "base_uri": "https://localhost:8080/",
          "height": 70
        }
      },
      "source": [
        "# welcome\n",
        "print(\"Hello world!\")\n",
        "\n",
        "x = [1, 2, 3]\n",
        "y = x\n",
        "x.append(4)\n",
        "print(\"x: \", x)\n",
        "print(\"y: \", y)\n"
      ],
      "execution_count": 2,
      "outputs": [
        {
          "output_type": "stream",
          "text": [
            "Hello world!\n",
            "x:  [1, 2, 3, 4]\n",
            "y:  [1, 2, 3, 4]\n"
          ],
          "name": "stdout"
        }
      ]
    },
    {
      "cell_type": "code",
      "metadata": {
        "id": "9TjlXzlyXjEg",
        "outputId": "4686c3fe-bbfc-4f08-b822-5c516cf64983",
        "colab": {
          "base_uri": "https://localhost:8080/",
          "height": 53
        }
      },
      "source": [
        "x = [1, 2, 3]\n",
        "y = x[:]  #  copy the whole list in memory\n",
        "x.append(4)\n",
        "print(\"x: \", x)\n",
        "print(\"y: \", y)"
      ],
      "execution_count": 3,
      "outputs": [
        {
          "output_type": "stream",
          "text": [
            "x:  [1, 2, 3, 4]\n",
            "y:  [1, 2, 3]\n"
          ],
          "name": "stdout"
        }
      ]
    },
    {
      "cell_type": "code",
      "metadata": {
        "id": "KQ7tVQ9ecGfl",
        "outputId": "4f248943-3d95-4a57-d1b1-885e79147716",
        "colab": {
          "base_uri": "https://localhost:8080/",
          "height": 53
        }
      },
      "source": [
        "l = list(range(0,5))\n",
        "print(l)\n",
        "\n",
        "l = list(range(-10,-20,-1))\n",
        "print(l)"
      ],
      "execution_count": 8,
      "outputs": [
        {
          "output_type": "stream",
          "text": [
            "[0, 1, 2, 3, 4]\n",
            "[-10, -11, -12, -13, -14, -15, -16, -17, -18, -19]\n"
          ],
          "name": "stdout"
        }
      ]
    },
    {
      "cell_type": "code",
      "metadata": {
        "id": "NtyO_Uh9mpCv",
        "outputId": "eda36af4-5538-4615-c842-78dfefb7362f",
        "colab": {
          "base_uri": "https://localhost:8080/",
          "height": 177
        }
      },
      "source": [
        "a = ['pippo', 'paperino', 'topolino']\n",
        "\n",
        "for elem in a:\n",
        "    print(elem)\n",
        "\n",
        "for i, elem in enumerate(a):\n",
        "    print(i, elem)\n",
        "\n",
        "for i in range(len(a)):\n",
        "    print(i, a[i])"
      ],
      "execution_count": 13,
      "outputs": [
        {
          "output_type": "stream",
          "text": [
            "pippo\n",
            "paperino\n",
            "topolino\n",
            "0 pippo\n",
            "1 paperino\n",
            "2 topolino\n",
            "0 pippo\n",
            "1 paperino\n",
            "2 topolino\n"
          ],
          "name": "stdout"
        }
      ]
    },
    {
      "cell_type": "code",
      "metadata": {
        "id": "Ho9zZmk0qtn4",
        "outputId": "215ab730-455e-406a-f291-0782862e880c",
        "colab": {
          "base_uri": "https://localhost:8080/",
          "height": 177
        }
      },
      "source": [
        "import numpy as np\n",
        "\n",
        "a = np.eye(3)\n",
        "print(a)\n",
        "\n",
        "idx = np.array([1, 1, 0])\n",
        "\n",
        "print(idx)\n",
        "print(idx == 1)\n",
        "\n",
        "print(a[idx==1, :])\n",
        "\n",
        "r = [0,1]\n",
        "print(a[r,:])\n"
      ],
      "execution_count": 21,
      "outputs": [
        {
          "output_type": "stream",
          "text": [
            "[[1. 0. 0.]\n",
            " [0. 1. 0.]\n",
            " [0. 0. 1.]]\n",
            "[1 1 0]\n",
            "[ True  True False]\n",
            "[[1. 0. 0.]\n",
            " [0. 1. 0.]]\n",
            "[[1. 0. 0.]\n",
            " [0. 1. 0.]]\n"
          ],
          "name": "stdout"
        }
      ]
    }
  ]
}